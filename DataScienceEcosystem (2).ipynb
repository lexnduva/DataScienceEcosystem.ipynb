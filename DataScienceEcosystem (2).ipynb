{
 "cells": [
  {
   "cell_type": "markdown",
   "id": "a78c032c",
   "metadata": {},
   "source": [
    "# Data Science Tools and Ecosystem "
   ]
  },
  {
   "cell_type": "markdown",
   "id": "bd753ac7",
   "metadata": {},
   "source": [
    "**In this notebook, Data Science Tools and Ecosystem are summarized.**"
   ]
  },
  {
   "cell_type": "markdown",
   "id": "d231f1bf-ab4f-40bb-bf67-94958d42d27f",
   "metadata": {},
   "source": [
    "**Objectives:**\n",
    "- List popular languages for Data Science\n",
    "- Indicate three development environment open source tools used in data science\n",
    "- List 3 (or more) commonly used libraries in data science\n",
    "- Evaluating arithmetic expressions in Python"
   ]
  },
  {
   "cell_type": "markdown",
   "id": "866bd88f",
   "metadata": {},
   "source": [
    "Some of the popular languages that Data Scientists use are:\n",
    "1. Python\n",
    "2. R \n",
    "3. SQL"
   ]
  },
  {
   "cell_type": "markdown",
   "id": "88a95def-fed7-43d2-9495-479d3e9c102a",
   "metadata": {},
   "source": [
    "Some of the commonly used libraries used by Data Scientists :\n",
    "1. Pandas\n",
    "2. Numpy\n",
    "3. Matplotlib\n",
    "4. Tensorflow\n",
    "5. Scipy\n"
   ]
  },
  {
   "cell_type": "markdown",
   "id": "25b4664d",
   "metadata": {},
   "source": [
    "| Data Science Tools |\n",
    "| ------ |\n",
    "| Jupyter notebook |\n",
    "| Apache Spark |\n",
    "| RStudio |"
   ]
  },
  {
   "cell_type": "markdown",
   "id": "ea63ba04-09ff-4729-aedc-3bf97617825d",
   "metadata": {},
   "source": [
    "### Below are a few examples of evaluation arithmetic expressions in python."
   ]
  },
  {
   "cell_type": "markdown",
   "id": "efa6b150-f19f-430c-b9c1-137ea2d24c91",
   "metadata": {},
   "source": [
    "This a simple arithmetic expression to mutiply then add integers"
   ]
  },
  {
   "cell_type": "code",
   "execution_count": 2,
   "id": "92cd9c73-1c38-4ce6-8429-a4c5ca0dff9d",
   "metadata": {},
   "outputs": [
    {
     "data": {
      "text/plain": [
       "17"
      ]
     },
     "execution_count": 2,
     "metadata": {},
     "output_type": "execute_result"
    }
   ],
   "source": [
    "( 3*4 ) + 5"
   ]
  },
  {
   "cell_type": "markdown",
   "id": "3825b0c4-23c1-430e-88e5-214341b7c601",
   "metadata": {},
   "source": [
    "This will convert 200 minutes to hours by diving by 60"
   ]
  },
  {
   "cell_type": "code",
   "execution_count": 4,
   "id": "326139a8-e13e-4fff-a4c4-43007beafaf5",
   "metadata": {},
   "outputs": [
    {
     "data": {
      "text/plain": [
       "3"
      ]
     },
     "execution_count": 4,
     "metadata": {},
     "output_type": "execute_result"
    }
   ],
   "source": [
    "200 // 60"
   ]
  },
  {
   "cell_type": "markdown",
   "id": "48fe76a2-3d27-40ed-9e6a-bbd24a4ecfac",
   "metadata": {},
   "source": [
    "## Author\n",
    "Lex Nduva"
   ]
  },
  {
   "cell_type": "code",
   "execution_count": null,
   "id": "87c281f1-667c-42ee-b2ae-85bd7cc34605",
   "metadata": {},
   "outputs": [],
   "source": []
  }
 ],
 "metadata": {
  "kernelspec": {
   "display_name": "Python 3 (ipykernel)",
   "language": "python",
   "name": "python3"
  },
  "language_info": {
   "codemirror_mode": {
    "name": "ipython",
    "version": 3
   },
   "file_extension": ".py",
   "mimetype": "text/x-python",
   "name": "python",
   "nbconvert_exporter": "python",
   "pygments_lexer": "ipython3",
   "version": "3.11.7"
  }
 },
 "nbformat": 4,
 "nbformat_minor": 5
}
